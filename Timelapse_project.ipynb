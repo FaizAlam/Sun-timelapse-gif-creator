{
  "nbformat": 4,
  "nbformat_minor": 0,
  "metadata": {
    "kernelspec": {
      "display_name": "Python 3",
      "language": "python",
      "name": "python3"
    },
    "language_info": {
      "codemirror_mode": {
        "name": "ipython",
        "version": 3
      },
      "file_extension": ".py",
      "mimetype": "text/x-python",
      "name": "python",
      "nbconvert_exporter": "python",
      "pygments_lexer": "ipython3",
      "version": "3.8.3"
    },
    "colab": {
      "name": "Timelapse project.ipynb",
      "provenance": [],
      "collapsed_sections": [],
      "include_colab_link": true
    }
  },
  "cells": [
    {
      "cell_type": "markdown",
      "metadata": {
        "id": "view-in-github",
        "colab_type": "text"
      },
      "source": [
        "<a href=\"https://colab.research.google.com/github/FaizAlam/Sun-timelapse-gif-creator/blob/main/Timelapse_project.ipynb\" target=\"_parent\"><img src=\"https://colab.research.google.com/assets/colab-badge.svg\" alt=\"Open In Colab\"/></a>"
      ]
    },
    {
      "cell_type": "code",
      "metadata": {
        "id": "7skP8xQsWeGE"
      },
      "source": [
        "import sys\n",
        "!{sys.executable} -m pip install beautifulsoup4"
      ],
      "execution_count": null,
      "outputs": []
    },
    {
      "cell_type": "code",
      "metadata": {
        "id": "qXU3pF4QgkgH"
      },
      "source": [
        "# Import date class from datetime module \n",
        "from datetime import date \n",
        "\n",
        "# Returns the current local date \n",
        "today = date.today() \n",
        "today=str(today)\n",
        "year,month,day = today.split('-')\n",
        "\n"
      ],
      "execution_count": null,
      "outputs": []
    },
    {
      "cell_type": "code",
      "metadata": {
        "id": "wFZ8rHHDWeGK"
      },
      "source": [
        "import requests\n",
        "import urllib.request\n",
        "from bs4 import BeautifulSoup\n",
        "\n",
        "url2 = 'https://sdo.gsfc.nasa.gov/assets/img/browse/'\n",
        "headers = {\n",
        "    'Accept-Encoding': 'gzip, deflate, sdch',\n",
        "    'Accept-Language': 'en-US,en;q=0.8',\n",
        "    'User-Agent': 'Mozilla/5.0 (Macintosh; Intel Mac OS X 10_10_1) AppleWebKit/537.36 (KHTML, like Gecko) Chrome/39.0.2171.95 Safari/537.36',\n",
        "    'Accept': 'text/html,application/xhtml+xml,application/xml;q=0.9,image/webp,*/*;q=0.8',\n",
        "    'Referer': 'http://www.wikipedia.org/',\n",
        "    'Connection': 'keep-alive',\n",
        "}\n",
        "\n",
        "def fetch_img(i_day,i_month,i_year):\n",
        "  url = 'https://sdo.gsfc.nasa.gov/assets/img/browse/index.php?b={}%2F{}%2F{}'.format(i_year,i_month,i_day)\n",
        "  r = requests.get(url=url, headers=headers)\n",
        "  soup = BeautifulSoup(r.text, 'html.parser')\n",
        "\n",
        "  i = 0\n",
        "  os.mkdir('D:\\\\temp')\n",
        "  for img in soup.findAll('a'):\n",
        "    # print(img)\n",
        "      i = i+1\n",
        "      image_temp = img.get('href')\n",
        "      i_url,e_url = image_temp.split(\".\")\n",
        "    # print(i_url[-1:-9:-1])\n",
        "      if i_url[-1:-9:-1] == '1710_215': \n",
        "          image_path = url2 + i_url + '.jpg'\n",
        "          local_path = \"Users/Home/Desktop/temp/pics/{}.jpg\".format(i)\n",
        "          with open(local_path,'wb') as f:\n",
        "              f.write(requests.get(url = image_path).content)\n",
        "      else:\n",
        "        pass\n",
        "  print(\"Images dowloaded. Now creating gif..\")\n",
        "    \n",
        "  create_gif() \n",
        "\n",
        "     "
      ],
      "execution_count": null,
      "outputs": []
    },
    {
      "cell_type": "code",
      "metadata": {
        "id": "Az2R2C18DUIB",
        "colab": {
          "base_uri": "https://localhost:8080/"
        },
        "outputId": "25abae18-1e89-482e-b078-f17d3d4266fe"
      },
      "source": [
        "import datetime\n",
        "def date_validation(day,month,year):\n",
        "  isValidDate = True\n",
        "  try:\n",
        "    datetime.datetime(int(year),int(month),int(day))\n",
        "  except ValueError:\n",
        "    isValidDate = False\n",
        "  if(isValidDate):\n",
        "    print(\"yes\")\n",
        "  else:\n",
        "    print(\"no\")\n",
        "\n",
        "date_validation(30,'02',2000)\n",
        "     "
      ],
      "execution_count": null,
      "outputs": [
        {
          "output_type": "stream",
          "text": [
            "no\n"
          ],
          "name": "stdout"
        }
      ]
    },
    {
      "cell_type": "code",
      "metadata": {
        "id": "OEH32V8gkWsk"
      },
      "source": [
        "print('''\n",
        " _______ _____ __  __ ______ _               _____   _____ ______  \n",
        " |__   __|_   _|  \\/  |  ____| |        /\\   |  __ \\ / ____|  ____| \n",
        "    | |    | | | \\  / | |__  | |       /  \\  | |__) | (___ | |__    \n",
        "    | |    | | | |\\/| |  __| | |      / /\\ \\ |  ___/ \\___ \\|  __|   \n",
        "    | |   _| |_| |  | | |____| |____ / ____ \\| |     ____) | |____  \n",
        "    |_|  |_____|_|  |_|______|______/_/    \\_\\_|    |_____/|______|\n",
        "\n",
        "  ''')\n",
        "\n",
        "date = input('Input the date(YYYY-MM-DD): ')\n",
        "#slicing input dates\n",
        "i_year, i_month, i_day = date.split('-')\n",
        "#print(i_year,i_month,i_day)\n",
        "\n",
        "if(i_year == year):\n",
        "  if(i_month <= month):\n",
        "    if(i_day <day):\n",
        "      #run function to fetch images\n",
        "      print(\"running code\")\n",
        "      fetch_img(i_day,i_month,i_year)\n",
        "      \n",
        "    else:\n",
        "      print(\"\\n Oops, enter previous date xD\")\n",
        "      \n",
        "  else:\n",
        "     # year == current year but month is bigger than current month\n",
        "      print(\"\\n Oops, enter previous date xD:error2\")\n",
        "      \n",
        "elif(i_year < year and i_year > '2011' and date_validation(i_day,i_month,i_year)):\n",
        "  fetch_img\n",
        "\n",
        "else:\n",
        "  print(\"uaaainnn\")\n",
        "\n"
      ],
      "execution_count": null,
      "outputs": []
    },
    {
      "cell_type": "markdown",
      "metadata": {
        "id": "cmuiYppumjBQ"
      },
      "source": [
        "yaar maine try to kiya hai gif banane ka, ban to gyi hai but slow hai..and files maine directly drive me download kar liye hain...phew xD much easier..tu dekhlioo ye\n",
        "\n",
        "\n",
        "oyeeee hogyaaaa\n",
        "🥺🥺🥺🥺🥺🥺🥺🥺🥺🥺\n",
        "waaaaoooooo😍it looks soo pretty yaar\n",
        "\n",
        "mai tujhe gif file bhi share karing😜"
      ]
    },
    {
      "cell_type": "code",
      "metadata": {
        "id": "3ndDiESqh1cz",
        "colab": {
          "base_uri": "https://localhost:8080/",
          "height": 130
        },
        "outputId": "da6271cf-0881-48c2-a44a-cde6f8333177"
      },
      "source": [
        "from PIL import Image,ImageDraw\n",
        "import glob\n",
        "def create_gif:\n",
        "#creating frames\n",
        "  frame = []\n",
        "  imgs = glob.glob(\"Users/Home/Desktop/temp/pics/*.jpg\")\n",
        "  for i in imgs:\n",
        "    new_frame = Image.open(i)\n",
        "    frame.append(new_frame)\n",
        "\n",
        "  frame[0].save('Users/Home/Desktop/temp/pics/{}.gif'.format('i_year+i_month+i_day'),format=\"GIF\",append_images =frame[1:],save_all=True,duration=100,loop=0)\n"
      ],
      "execution_count": null,
      "outputs": [
        {
          "output_type": "error",
          "ename": "SyntaxError",
          "evalue": "ignored",
          "traceback": [
            "\u001b[0;36m  File \u001b[0;32m\"<ipython-input-2-a7f0865400bd>\"\u001b[0;36m, line \u001b[0;32m3\u001b[0m\n\u001b[0;31m    def create_gif:\u001b[0m\n\u001b[0m                  ^\u001b[0m\n\u001b[0;31mSyntaxError\u001b[0m\u001b[0;31m:\u001b[0m invalid syntax\n"
          ]
        }
      ]
    },
    {
      "cell_type": "code",
      "metadata": {
        "colab": {
          "base_uri": "https://localhost:8080/"
        },
        "id": "Ef6P8bTRaIKt",
        "outputId": "b5239cff-b1fc-4155-e4b1-c65823fd5a2d"
      },
      "source": [
        "from google.colab import drive\n",
        "drive.mount('/content/drive')\n"
      ],
      "execution_count": null,
      "outputs": [
        {
          "output_type": "stream",
          "text": [
            "Mounted at /content/drive\n"
          ],
          "name": "stdout"
        }
      ]
    }
  ]
}